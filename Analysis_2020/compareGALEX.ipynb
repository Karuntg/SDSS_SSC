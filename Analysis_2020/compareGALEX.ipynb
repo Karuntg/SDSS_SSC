{
 "cells": [
  {
   "cell_type": "markdown",
   "metadata": {},
   "source": [
    "# Compare the v3.4 recalibrated SDSS Stripe82 catalog \n",
    "# and the GALEX catalog\n",
    "\n",
    "[Link to helper tools](#dataTools) \n",
    "\n",
    "[Link to data reading](#dataReading) \n",
    "\n",
    "[Link to data analysis](#dataAnalysis) "
   ]
  },
  {
   "cell_type": "code",
   "execution_count": null,
   "metadata": {},
   "outputs": [],
   "source": [
    "%matplotlib inline\n",
    "from astropy.table import Table\n",
    "from astropy.coordinates import SkyCoord\n",
    "from astropy import units as u\n",
    "from astropy.table import hstack\n",
    "import matplotlib.pyplot as plt \n",
    "import numpy as np\n",
    "import pandas as pd\n",
    "from astroML.plotting import hist\n",
    "# for astroML installation see https://www.astroml.org/user_guide/installation.html"
   ]
  },
  {
   "cell_type": "code",
   "execution_count": null,
   "metadata": {},
   "outputs": [],
   "source": [
    "## automatically reload any modules read below that might have changed (e.g. plots)\n",
    "%load_ext autoreload\n",
    "%autoreload 2\n",
    "# importing ZI tools: \n",
    "import ZItools as zit\n",
    "# importing Karun's tools: \n",
    "import KTtools as ktt"
   ]
  },
  {
   "cell_type": "markdown",
   "metadata": {},
   "source": [
    "<a id='dataTools'></a>\n",
    "\n",
    "### Helper Tools"
   ]
  },
  {
   "cell_type": "code",
   "execution_count": null,
   "metadata": {},
   "outputs": [],
   "source": [
    "# robust standard deviation\n",
    "def sigG(arr):\n",
    "    return 0.741*(np.quantile(arr, 0.75)-np.quantile(arr, 0.25))"
   ]
  },
  {
   "cell_type": "code",
   "execution_count": null,
   "metadata": {},
   "outputs": [],
   "source": [
    "def doOneColor(d, kw):\n",
    "    print('=========== WORKING ON:', kw['Ystr'], '===================')\n",
    "    xVec = d[kw['Xstr']]\n",
    "    yVec = d[kw['Ystr']]\n",
    "    # \n",
    "    xBin, nPts, medianBin, sigGbin = zit.fitMedians(xVec, yVec, 0.5, 3.1, 52, 0)\n",
    "    fig,ax = plt.subplots(1,1,figsize=(8,6))\n",
    "    ax.scatter(xVec, yVec, s=0.01, c='blue')\n",
    "    ax.scatter(xBin, medianBin, s=5.2, c='yellow')\n",
    "    ax.set_xlim(0.4,3.2)\n",
    "    ax.set_ylim(-0.5,0.5)\n",
    "    ax.set_xlabel(kw['Xstr'])\n",
    "    ax.set_ylabel(kw['Ystr'])\n",
    "    d['colorfit'] = np.interp(xVec, xBin, medianBin)\n",
    "    d['colorresid'] = d[kw['Ystr']] - d['colorfit'] \n",
    "    goodC = d[np.abs(d['colorresid'])<0.3]\n",
    "    \n",
    "    ### plots \n",
    "    # RA\n",
    "    print(' stats for RA binning medians:')\n",
    "    plotNameRoot = kw['plotNameRoot'] + kw['Ystr']\n",
    "    plotName = plotNameRoot + '_RA.png'\n",
    "    Ylabel =kw['Ystr'] + ' residuals'\n",
    "    kwOC = {\"Xstr\":'raW', \"Xmin\":-52, \"Xmax\":45, \"Xlabel\":'R.A. (deg)', \\\n",
    "          \"Ystr\":'colorresid', \"Ymin\":-0.07, \"Ymax\":0.07, \"Ylabel\":Ylabel, \\\n",
    "          \"XminBin\":-51.5, \"XmaxBin\":45, \"nBin\":56, \\\n",
    "          \"plotName\":plotName, \"Nsigma\":3, \"offset\":0.01, \"symbSize\":kw['symbSize']}\n",
    "    zit.plotdelMag(goodC, kwOC)\n",
    "    print('made plot', plotName)\n",
    "    # Dec\n",
    "    print('-----------')\n",
    "    print(' stats for Dec binning medians:')\n",
    "    plotName = plotNameRoot + '_Dec.png'\n",
    "    kwOC = {\"Xstr\":'dec', \"Xmin\":-0.5, \"Xmax\":1.3, \"Xlabel\":'Declination (deg)', \\\n",
    "          \"Ystr\":'colorresid', \"Ymin\":-0.07, \"Ymax\":0.07, \"Ylabel\":Ylabel, \\\n",
    "          \"XminBin\":-0.45, \"XmaxBin\":1.26, \"nBin\":52, \\\n",
    "          \"plotName\":plotName, \"Nsigma\":3, \"offset\":0.01, \"symbSize\":kw['symbSize']}\n",
    "    zit.plotdelMag(goodC, kwOC)\n",
    "    Ylabel = 'residuals for ($u_{SDSS}$ - $u_{GALEX}$)'\n",
    "    kwOC = {\"Xstr\":'dec', \"Xmin\":-0.5, \"Xmax\":1.3, \"Xlabel\":'Declination (deg)', \\\n",
    "          \"Ystr\":'colorresid', \"Ymin\":-0.07, \"Ymax\":0.07, \"Ylabel\":Ylabel, \\\n",
    "          \"XminBin\":-0.45, \"XmaxBin\":1.26, \"nBin\":52, \\\n",
    "          \"plotName\":plotName, \"Nsigma\":3, \"offset\":0.01, \"symbSize\":0.05}\n",
    "    color = 'colorresid' \n",
    "    kwOC[\"Ystr\"] = color \n",
    "    kwOC[\"plotName\"] = 'colorResidGALEXug_Dec_Hess.png'  \n",
    "    kwOC[\"nBinX\"] = 55\n",
    "    kwOC[\"nBinY\"] = 25\n",
    "    kwOC[\"cmap\"] = 'plasma'\n",
    "    ktt.plotdelMagBW_KT(sdssGALEXug, kwOC)\n",
    "    \n",
    "    \n",
    "    print('made plot', plotName)\n",
    "    # r SDSS\n",
    "    print('-----------')\n",
    "    print(' stats for SDSS u binning medians:')\n",
    "    plotName = plotNameRoot + '_umag.png'    \n",
    "    kwOC = {\"Xstr\":'u_mMed', \"Xmin\":15.2, \"Xmax\":22.5, \"Xlabel\":'SDSS u (mag)', \\\n",
    "          \"Ystr\":'colorresid', \"Ymin\":-0.07, \"Ymax\":0.07, \"Ylabel\":Ylabel, \\\n",
    "          \"XminBin\":16, \"XmaxBin\":22, \"nBin\":55, \\\n",
    "          \"plotName\":plotName, \"Nsigma\":3, \"offset\":0.01, \"symbSize\":kw['symbSize']}\n",
    "    zit.plotdelMag(goodC, kwOC)\n",
    "    print('made plot', plotName)\n",
    "    print('------------------------------------------------------------------')\n",
    "\n",
    "def doOneColorRA(d, kw):\n",
    "    print('=========== WORKING ON:', kw['Ystr'], '===================')\n",
    "    xVec = d[kw['Xstr']]\n",
    "    yVec = d[kw['Ystr']]\n",
    "    # \n",
    "    xBin, nPts, medianBin, sigGbin = zit.fitMedians(xVec, yVec, 0.5, 3.1, 52, 0)\n",
    "    fig,ax = plt.subplots(1,1,figsize=(8,6))\n",
    "    ax.scatter(xVec, yVec, s=0.01, c='blue')\n",
    "    ax.scatter(xBin, medianBin, s=5.2, c='yellow')\n",
    "    ax.set_xlim(0.4,3.2)\n",
    "    ax.set_ylim(-0.5,0.5)\n",
    "    ax.set_xlabel(kw['Xstr'])\n",
    "    ax.set_ylabel(kw['Ystr'])\n",
    "    d['colorfit'] = np.interp(xVec, xBin, medianBin)\n",
    "    d['colorresid'] = d[kw['Ystr']] - d['colorfit'] \n",
    "    goodC = d[np.abs(d['colorresid'])<0.3]\n",
    "    \n",
    "    ### plots \n",
    "    # RA\n",
    "    print(' stats for RA binning medians:')\n",
    "    plotNameRoot = kw['plotNameRoot'] + kw['Ystr']\n",
    "    plotName = plotNameRoot + '_RA.png'\n",
    "    Ylabel = 'u band residuals (SDSS vs. GALEX, BP-RP)'\n",
    "    kwOC = {\"Xstr\":'raW', \"Xmin\":-52, \"Xmax\":62, \"Xlabel\":'R.A. (deg)', \\\n",
    "          \"Ystr\":'colorresid', \"Ymin\":-0.07, \"Ymax\":0.07, \"Ylabel\":Ylabel, \\\n",
    "          \"XminBin\":-48, \"XmaxBin\":45, \"nBin\":56, \\\n",
    "          \"plotName\":plotName, \"Nsigma\":3, \"offset\":0.01, \"symbSize\":kw['symbSize']}\n",
    "    plotdelMag2(goodC, kwOC, True)\n",
    "    print('made plot', plotName)   \n",
    "\n",
    "    \n",
    "def doOneColorDec(d, kw):\n",
    "    print('=========== WORKING ON:', kw['Ystr'], '===================')\n",
    "    xVec = d[kw['Xstr']]\n",
    "    yVec = d[kw['Ystr']]\n",
    "    # \n",
    "    xBin, nPts, medianBin, sigGbin = zit.fitMedians(xVec, yVec, 0.5, 3.1, 52, 0)\n",
    "    fig,ax = plt.subplots(1,1,figsize=(8,6))\n",
    "    ax.scatter(xVec, yVec, s=0.01, c='blue')\n",
    "    ax.scatter(xBin, medianBin, s=5.2, c='yellow')\n",
    "    ax.set_xlim(0.4,3.2)\n",
    "    ax.set_ylim(-0.5,0.5)\n",
    "    ax.set_xlabel(kw['Xstr'])\n",
    "    ax.set_ylabel(kw['Ystr'])\n",
    "    d['colorfit'] = np.interp(xVec, xBin, medianBin)\n",
    "    d['colorresid'] = d[kw['Ystr']] - d['colorfit'] \n",
    "    goodC = d[np.abs(d['colorresid'])<0.3]\n",
    "    \n",
    "    ### plots \n",
    "    # Dec\n",
    "    print('-----------')\n",
    "    print(' stats for Dec binning medians:')\n",
    "    plotNameRoot = kw['plotNameRoot'] + kw['Ystr']\n",
    "    plotName = plotNameRoot + '_Dec.png'\n",
    "    Ylabel = 'u band residuals (SDSS vs. GALEX, BP-RP)'\n",
    "    kwOC = {\"Xstr\":'dec', \"Xmin\":-1.3, \"Xmax\":1.3, \"Xlabel\":'Declination (deg)', \\\n",
    "          \"Ystr\":'colorresid', \"Ymin\":-0.07, \"Ymax\":0.07, \"Ylabel\":Ylabel, \\\n",
    "          \"XminBin\":-0.45, \"XmaxBin\":1.26, \"nBin\":35, \\\n",
    "          \"plotName\":plotName, \"Nsigma\":3, \"offset\":0.01, \"symbSize\":kw['symbSize']}\n",
    "    plotdelMag2(goodC, kwOC, False)\n",
    "    print('made plot', plotName)\n",
    " \n",
    "\n"
   ]
  },
  {
   "cell_type": "code",
   "execution_count": null,
   "metadata": {},
   "outputs": [],
   "source": [
    "## a horrible hack to compare GALEX and Gaia results for the u band\n",
    "def plotdelMag2(d, kw, RA=True):\n",
    " \n",
    "    print('medianAll:', np.median(d[kw['Ystr']]), 'std.dev.All:', sigG(d[kw['Ystr']]))\n",
    "    print('N=', np.size(d[kw['Ystr']]), 'min=', np.min(d[kw['Ystr']]), 'max=', np.max(d[kw['Ystr']]))\n",
    "\n",
    "    fig, ax = plt.subplots(figsize=(12, 8))\n",
    "    ax.scatter(d[kw['Xstr']], d[kw['Ystr']], s=kw['symbSize'], c='black') \n",
    "    # binning\n",
    "    xBinM, nPtsM, medianBinM, sigGbinM = zit.fitMedians(d[kw['Xstr']], \\\n",
    "                                         d[kw['Ystr']], kw['XminBin'], kw['XmaxBin'], kw['nBin'], 1)\n",
    "    # plotting\n",
    "    if (kw['offset'] >= 0):\n",
    "        xL = np.linspace(kw['XminBin'], kw['XmaxBin'])\n",
    "        ax.plot(xL, 0*xL, '-', c='red', linewidth=3)\n",
    "        ax.plot(xL, 0*xL+kw['offset'], '--', c='red', linewidth=3)\n",
    "        ax.plot(xL, 0*xL-kw['offset'], '--', c='red', linewidth=3)\n",
    "    if (0):\n",
    "        ax.scatter(xBinM, medianBinM, s=30.0, c='black', alpha=0.8)\n",
    "        ax.scatter(xBinM, medianBinM, s=15.0, c='yellow', alpha=0.3)\n",
    "    #\n",
    "    TwoSigP = medianBinM + kw['Nsigma']*sigGbinM\n",
    "    TwoSigM = medianBinM - kw['Nsigma']*sigGbinM \n",
    "    ax.plot(xBinM, TwoSigP, c='yellow', linewidth=3)\n",
    "    ax.plot(xBinM, TwoSigM, c='yellow', linewidth=3)\n",
    "    #\n",
    "    rmsBin = np.sqrt(nPtsM) / np.sqrt(np.pi/2) * sigGbinM\n",
    "    rmsP = medianBinM + rmsBin\n",
    "    rmsM = medianBinM - rmsBin\n",
    "    ax.plot(xBinM, rmsP, c='cyan', linewidth=3)\n",
    "    ax.plot(xBinM, rmsM, c='cyan', linewidth=3)\n",
    "    # \n",
    "    if (RA):\n",
    "       # read back \n",
    "        zpRAgrid, zpRA = np.loadtxt('ZPcorrectionsRA_Gaia_uband_v3.2.dat')  \n",
    "        ax.plot(zpRAgrid, zpRA, c='blue', linewidth=3)\n",
    "        here = np.interp(xBinM, zpRAgrid, zpRA) - medianBinM \n",
    "        print(np.min(here), np.max(here), sigG(here))\n",
    "    else:\n",
    "        zpDecgrid, zpDec = np.loadtxt('ZPcorrectionsDec_Gaia_uband_v3.2.dat')   \n",
    "        ax.plot(zpDecgrid, zpDec, c='blue', linewidth=3)\n",
    "        here = np.interp(xBinM, zpDecgrid, zpDec) - medianBinM \n",
    "        print(np.min(here), np.max(here), sigG(here))\n",
    "\n",
    "\n",
    "\n",
    "    ax.set_xlabel(kw['Xlabel'], fontsize=22)\n",
    "    ax.set_ylabel(kw['Ylabel'], fontsize=22)\n",
    "    ax.set_xlim(kw['Xmin'], kw['Xmax'])\n",
    "    ax.set_ylim(kw['Ymin'], kw['Ymax'])\n",
    "    plt.xticks(fontsize=22)\n",
    "    plt.yticks(fontsize=22)\n",
    "    plt.savefig(kw['plotName'], dpi=600)\n",
    "    print('saved plot as:', kw['plotName']) \n",
    "    \n",
    "    \n",
    "    plt.show()\n",
    "    return"
   ]
  },
  {
   "cell_type": "code",
   "execution_count": null,
   "metadata": {},
   "outputs": [],
   "source": [
    "# both new and old files use identical data structure\n",
    "colnamesSDSS = ['calib_fla', 'ra', 'dec', 'raRMS', 'decRMS', 'nEpochs', 'AR_val', \n",
    "                'u_Nobs', 'u_mMed', 'u_mMean', 'u_mErr', 'u_rms_scatt', 'u_chi2',\n",
    "                'g_Nobs', 'g_mMed', 'g_mMean', 'g_mErr', 'g_rms_scatt', 'g_chi2',\n",
    "                'r_Nobs', 'r_mMed', 'r_mMean', 'r_mErr', 'r_rms_scatt', 'r_chi2',\n",
    "                'i_Nobs', 'i_mMed', 'i_mMean', 'i_mErr', 'i_rms_scatt', 'i_chi2',\n",
    "                'z_Nobs', 'z_mMed', 'z_mMean', 'z_mErr', 'z_rms_scatt', 'z_chi2']\n",
    "\n",
    "### code for generating new quantities, such as dra, ddec, colors, differences in mags, etc\n",
    "def derivedColumns(matches):\n",
    "    matches['dra'] = (matches['ra_sdss']-matches['ra_galex'])*3600\n",
    "    matches['ddec'] = (matches['dec_sdss']-matches['dec_galex'])*3600\n",
    "    ra = matches['ra_sdss'] \n",
    "    matches['raW'] = np.where(ra > 180, ra-360, ra) \n",
    "    matches['ug'] = matches['u_mMed'] - matches['g_mMed']\n",
    "    matches['gr'] = matches['g_mMed'] - matches['r_mMed']\n",
    "    matches['ri'] = matches['r_mMed'] - matches['i_mMed']\n",
    "    matches['gi'] = matches['g_mMed'] - matches['i_mMed']\n",
    "    matches['iz'] = matches['i_mMed'] - matches['z_mMed']\n",
    "    matches['NUVg'] = matches['NUV_MAG'] - matches['g_mMed']\n",
    "    # Initial transformation from GALEX NUV and SDSS g,i to SDSS u...\n",
    "    matches['u_est'] = matches['NUV_MAG'] \\\n",
    "                        + 0.939  \\\n",
    "                        - 1.008*matches['NUVg'] + 0.017*matches['NUVg']*matches['NUVg'] \\\n",
    "                        - 0.599*matches['gi'] + 0.860*matches['gi']*matches['gi']\n",
    "    matches['du_est'] = matches['u_mMed'] - matches['u_est']\n",
    "    return"
   ]
  },
  {
   "cell_type": "markdown",
   "metadata": {},
   "source": [
    "<a id='dataReading'></a>\n",
    "\n",
    "### Define paths and catalogs "
   ]
  },
  {
   "cell_type": "code",
   "execution_count": null,
   "metadata": {},
   "outputs": [],
   "source": [
    "#ZIdataDir = \"/Users/ivezic/Work/Science/CalibrationV2/SDSS_SSC/Data\"\n",
    "ZIdataDir = \"/data/des40.a/data/dtucker/Stripe82Stds/SDSSSSC/allDataThanjavurPaper\"\n",
    "# original analysis\n",
    "# SDSScatalog = ZIdataDir + \"/\" + \"stripe82calibStars_v3.2.dat\" \n",
    "# final analysis\n",
    "# SDSScatalog = ZIdataDir + \"/\" + \"stripe82calibStars_v3.2_noheader_final.dat\"\n",
    "SDSScatalog = ZIdataDir + \"/\" + \"stripe82calibStars_v3.4.dat\"\n",
    "# GALEX catalog (from Sahar and Douglas)\n",
    "GALEXcatalog = ZIdataDir + \"/\" + \"sdssdr13Stripe82_GALEX_matches.csv\" \n",
    "#colnamesGALEX = ['ra', 'dec', 'upsf', 'uauto', 'upsfErr', 'uautoErr', 'sg']\n",
    "colnamesGALEX = ['RA', 'DEC', 'NUV_MAG', 'NUV_MAGERR', 'NUV_CLASS_STAR']\n",
    "# Use pandas to grab just a certain subset of columns from GALEXcatalog...\n",
    "galex_df = pd.read_csv(GALEXcatalog, usecols=colnamesGALEX)\n",
    "galex_df.rename(columns = {'RA':'ra', 'DEC':'dec'}, inplace=True)\n",
    "galex = Table.from_pandas(galex_df)\n",
    "#cfis = Table.read(GALEXcatalog, format='csv', names=colnamesGALEX) "
   ]
  },
  {
   "cell_type": "code",
   "execution_count": null,
   "metadata": {},
   "outputs": [],
   "source": [
    "galex "
   ]
  },
  {
   "cell_type": "code",
   "execution_count": null,
   "metadata": {},
   "outputs": [],
   "source": [
    "sdss = Table.read(SDSScatalog, format='ascii', names=colnamesSDSS)"
   ]
  },
  {
   "cell_type": "code",
   "execution_count": null,
   "metadata": {},
   "outputs": [],
   "source": [
    "sdss_coords = SkyCoord(ra = sdss['ra']*u.degree, dec= sdss['dec']*u.degree) \n",
    "galex_coords = SkyCoord(ra = galex['ra']*u.degree, dec= galex['dec']*u.degree) \n",
    "\n",
    "# this is matching galex to sdss, so that indices are into sdss catalog\n",
    "# makes sense in this case since the sdss catalog is bigger than galex\n",
    "idx, d2d, d3d = galex_coords.match_to_catalog_sky(sdss_coords)  \n",
    "\n",
    "# object separation is an object with units, \n",
    "# I add that as a column so that one can \n",
    "# select based on separation to the nearest matching object\n",
    "sdssGALEXall = hstack([galex, sdss[idx]], table_names = ['galex', 'sdss'])\n",
    "sdssGALEXall['sep_2d_arcsec'] = d2d.arcsec"
   ]
  },
  {
   "cell_type": "code",
   "execution_count": null,
   "metadata": {},
   "outputs": [],
   "source": [
    "print(np.min(galex['ra']), np.max(galex['ra']))"
   ]
  },
  {
   "cell_type": "code",
   "execution_count": null,
   "metadata": {},
   "outputs": [],
   "source": [
    "# Let's use a 3.0-arcsec search radius for GALEX matches...\n",
    "sdssGALEX = sdssGALEXall[sdssGALEXall['sep_2d_arcsec']<3.0]\n",
    "print(np.size(sdssGALEXall), np.size(sdssGALEX))"
   ]
  },
  {
   "cell_type": "code",
   "execution_count": null,
   "metadata": {},
   "outputs": [],
   "source": [
    "sdssGALEX"
   ]
  },
  {
   "cell_type": "code",
   "execution_count": null,
   "metadata": {},
   "outputs": [],
   "source": [
    "derivedColumns(sdssGALEX)"
   ]
  },
  {
   "cell_type": "code",
   "execution_count": null,
   "metadata": {},
   "outputs": [],
   "source": [
    "sdssGALEX"
   ]
  },
  {
   "cell_type": "code",
   "execution_count": null,
   "metadata": {},
   "outputs": [],
   "source": [
    "sdssGALEX['ra'] = sdssGALEX['ra_sdss']\n",
    "sdssGALEX['dec'] = sdssGALEX['dec_sdss']\n",
    "#sdssCFIS['duCFIS'] = sdssCFIS['upsf'] - sdssCFIS['uauto']"
   ]
  },
  {
   "cell_type": "code",
   "execution_count": null,
   "metadata": {},
   "outputs": [],
   "source": [
    "sdssGALEXug = sdssGALEX[(sdssGALEX['ug']>1.0)&(sdssGALEX['ug']<2.1)]\n",
    "sdssGALEXbright = sdssGALEXug[sdssGALEXug['r_mMed']<20]\n",
    "print(np.size(sdssGALEX), np.size(sdssGALEXug), np.size(sdssGALEXbright))"
   ]
  },
  {
   "cell_type": "code",
   "execution_count": null,
   "metadata": {},
   "outputs": [],
   "source": [
    "sdssGALEXug"
   ]
  },
  {
   "cell_type": "code",
   "execution_count": null,
   "metadata": {},
   "outputs": [],
   "source": [
    "keywords = {\"Xstr\":'ug', \"plotNameRoot\":'colorResidGALEXug_', \"symbSize\":0.05}\n",
    "for color in ('du_est', 'dra', 'ddec'):\n",
    "    keywords[\"Ystr\"] = color \n",
    "    doOneColor(sdssGALEXug, keywords)"
   ]
  },
  {
   "cell_type": "code",
   "execution_count": null,
   "metadata": {},
   "outputs": [],
   "source": [
    "keywords = {\"Xstr\":'ug', \"plotNameRoot\":'colorResidGALEXug_', \"symbSize\":0.05}\n",
    "color = 'du_est' \n",
    "keywords[\"Ystr\"] = color \n",
    "doOneColor(sdssGALEXug, keywords)"
   ]
  },
  {
   "cell_type": "code",
   "execution_count": null,
   "metadata": {},
   "outputs": [],
   "source": [
    "keywords = {\"Xstr\":'ug', \"plotNameRoot\":'colorResidGALEXbright_', \"symbSize\":0.05}\n",
    "for color in ('du_est', 'dra', 'ddec'):\n",
    "    keywords[\"Ystr\"] = color \n",
    "    doOneColor(sdssGALEXbright, keywords)"
   ]
  },
  {
   "cell_type": "code",
   "execution_count": null,
   "metadata": {},
   "outputs": [],
   "source": [
    "#plotName = 'colorResidGALEXbright_CFISupsfVSuauto.png' \n",
    "#Ylabel = 'CFIS upsf-uauto (mag)'\n",
    "#kwOC = {\"Xstr\":'upsf', \"Xmin\":15, \"Xmax\":22, \"Xlabel\":'CFIS upsf (mag)', \\\n",
    "#          \"Ystr\":'duCFIS', \"Ymin\":-0.07, \"Ymax\":0.07, \"Ylabel\":Ylabel, \\\n",
    "#          \"XminBin\":15.5, \"XmaxBin\":21.5, \"nBin\":55, \\\n",
    "#          \"plotName\":plotName, \"Nsigma\":3, \"offset\":0.01, \"symbSize\":0.05}\n",
    "#zit.plotdelMag(sdssCFISbright, kwOC)"
   ]
  },
  {
   "cell_type": "code",
   "execution_count": null,
   "metadata": {},
   "outputs": [],
   "source": [
    "keywords = {\"Xstr\":'ug', \"plotNameRoot\":'colorResidGALEX_Gaia_', \"symbSize\":0.05}\n",
    "keywords[\"Ystr\"] = 'du_est' \n",
    "doOneColorRA(sdssGALEXbright, keywords)"
   ]
  },
  {
   "cell_type": "code",
   "execution_count": null,
   "metadata": {},
   "outputs": [],
   "source": [
    "keywords = {\"Xstr\":'ug', \"plotNameRoot\":'colorResidGALEX_Gaia_', \"symbSize\":0.05}\n",
    "keywords[\"Ystr\"] = 'du_est' \n",
    "doOneColorDec(sdssGALEXbright, keywords)"
   ]
  },
  {
   "cell_type": "code",
   "execution_count": null,
   "metadata": {},
   "outputs": [],
   "source": [
    "sdssGALEX"
   ]
  },
  {
   "cell_type": "code",
   "execution_count": null,
   "metadata": {},
   "outputs": [],
   "source": [
    "fig,ax = plt.subplots(1,1,figsize=(8,6))\n",
    "ax.scatter(sdssGALEX['u_mMed'], sdssGALEX['u_rms_scatt'], s=0.01, c='blue')\n",
    "ax.set_xlim(12,22)\n",
    "ax.set_ylim(0.0,0.2)"
   ]
  },
  {
   "cell_type": "code",
   "execution_count": null,
   "metadata": {},
   "outputs": [],
   "source": []
  }
 ],
 "metadata": {
  "kernelspec": {
   "display_name": "Python 3",
   "language": "python",
   "name": "python3"
  },
  "language_info": {
   "codemirror_mode": {
    "name": "ipython",
    "version": 3
   },
   "file_extension": ".py",
   "mimetype": "text/x-python",
   "name": "python",
   "nbconvert_exporter": "python",
   "pygments_lexer": "ipython3",
   "version": "3.7.7"
  }
 },
 "nbformat": 4,
 "nbformat_minor": 2
}
