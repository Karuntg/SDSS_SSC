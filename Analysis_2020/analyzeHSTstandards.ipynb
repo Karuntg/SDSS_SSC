{
 "cells": [
  {
   "cell_type": "markdown",
   "metadata": {},
   "source": [
    "## Compare v3.4 and HST standard WDs from Doug Tucker"
   ]
  },
  {
   "cell_type": "code",
   "execution_count": 1,
   "metadata": {},
   "outputs": [],
   "source": [
    "%matplotlib inline\n",
    "from astropy.table import Table\n",
    "from astropy.coordinates import SkyCoord\n",
    "from astropy import units as u\n",
    "from astropy.table import hstack\n",
    "import matplotlib.pyplot as plt \n",
    "import numpy as np\n",
    "from astroML.plotting import hist\n",
    "# for astroML installation see https://www.astroml.org/user_guide/installation.html"
   ]
  },
  {
   "cell_type": "code",
   "execution_count": 2,
   "metadata": {},
   "outputs": [],
   "source": [
    "## automatically reload any modules read below that might have changed (e.g. plots)\n",
    "%load_ext autoreload\n",
    "%autoreload 2\n",
    "# importing ZI and KT tools: \n",
    "import ZItools as zit\n",
    "import KTtools as ktt"
   ]
  },
  {
   "cell_type": "markdown",
   "metadata": {},
   "source": [
    "<a id='dataReading'></a>\n",
    "\n",
    "### Define paths and catalogs "
   ]
  },
  {
   "cell_type": "code",
   "execution_count": 3,
   "metadata": {},
   "outputs": [],
   "source": [
    "ZIdataDir = \"/Users/ivezic/Work/Science/CalibrationV2/SDSS_SSC/Data\"\n",
    "# the 3 stars with HST data \n",
    "hstCat= ZIdataDir + \"/\" + \"HSTstandards_Stripe82.dat\"\n",
    "# stripe82 catalog data for these 3 stars\n",
    "sdssCat = ZIdataDir + \"/\" + \"stripe82calibStars_v3.4_HSTstandards.dat\"\n",
    "readFormat = 'ascii'"
   ]
  },
  {
   "cell_type": "code",
   "execution_count": 4,
   "metadata": {},
   "outputs": [],
   "source": [
    "# both new and old files use identical data structure\n",
    "colnamesHST = ['ra', 'dec', 'u_synth', 'g_synth', 'r_synth', 'i_synth', 'z_synth', 'calib_fla']"
   ]
  },
  {
   "cell_type": "code",
   "execution_count": 5,
   "metadata": {},
   "outputs": [],
   "source": [
    "# both new and old files use identical data structure\n",
    "colnamesSDSS = ['calib_fla', 'ra', 'dec', 'raRMS', 'decRMS', 'nEpochs', 'AR_val', \n",
    "                'u_Nobs', 'u_mMed', 'u_mMean', 'u_mErr', 'u_rms_scatt', 'u_chi2',\n",
    "                'g_Nobs', 'g_mMed', 'g_mMean', 'g_mErr', 'g_rms_scatt', 'g_chi2',\n",
    "                'r_Nobs', 'r_mMed', 'r_mMean', 'r_mErr', 'r_rms_scatt', 'r_chi2',\n",
    "                'i_Nobs', 'i_mMed', 'i_mMean', 'i_mErr', 'i_rms_scatt', 'i_chi2',\n",
    "                'z_Nobs', 'z_mMed', 'z_mMean', 'z_mErr', 'z_rms_scatt', 'z_chi2']"
   ]
  },
  {
   "cell_type": "code",
   "execution_count": 8,
   "metadata": {},
   "outputs": [
    {
     "data": {
      "text/plain": [
       "3"
      ]
     },
     "execution_count": 8,
     "metadata": {},
     "output_type": "execute_result"
    }
   ],
   "source": [
    "# hst \n",
    "hst = Table.read(hstCat, format='csv', names=colnamesHST) \n",
    "np.size(hst)"
   ]
  },
  {
   "cell_type": "code",
   "execution_count": 9,
   "metadata": {},
   "outputs": [
    {
     "data": {
      "text/html": [
       "<i>Table length=3</i>\n",
       "<table id=\"table26343839120\" class=\"table-striped table-bordered table-condensed\">\n",
       "<thead><tr><th>ra</th><th>dec</th><th>u_synth</th><th>g_synth</th><th>r_synth</th><th>i_synth</th><th>z_synth</th><th>calib_fla</th></tr></thead>\n",
       "<thead><tr><th>float64</th><th>float64</th><th>float64</th><th>float64</th><th>float64</th><th>float64</th><th>float64</th><th>int64</th></tr></thead>\n",
       "<tr><td>352.4221875</td><td>0.1855</td><td>18.154</td><td>18.145</td><td>18.466</td><td>18.754</td><td>19.042</td><td>624394</td></tr>\n",
       "<tr><td>15.8424625</td><td>-0.346592</td><td>18.627</td><td>19.057</td><td>19.558</td><td>19.923</td><td>20.258</td><td>746375</td></tr>\n",
       "<tr><td>57.2091083</td><td>-0.975636</td><td>13.409</td><td>13.784</td><td>14.295</td><td>14.655</td><td>-99.999</td><td>978943</td></tr>\n",
       "</table>"
      ],
      "text/plain": [
       "<Table length=3>\n",
       "     ra        dec    u_synth g_synth r_synth i_synth z_synth calib_fla\n",
       "  float64    float64  float64 float64 float64 float64 float64   int64  \n",
       "----------- --------- ------- ------- ------- ------- ------- ---------\n",
       "352.4221875    0.1855  18.154  18.145  18.466  18.754  19.042    624394\n",
       " 15.8424625 -0.346592  18.627  19.057  19.558  19.923  20.258    746375\n",
       " 57.2091083 -0.975636  13.409  13.784  14.295  14.655 -99.999    978943"
      ]
     },
     "execution_count": 9,
     "metadata": {},
     "output_type": "execute_result"
    }
   ],
   "source": [
    "hst"
   ]
  },
  {
   "cell_type": "code",
   "execution_count": 11,
   "metadata": {},
   "outputs": [
    {
     "data": {
      "text/plain": [
       "3"
      ]
     },
     "execution_count": 11,
     "metadata": {},
     "output_type": "execute_result"
    }
   ],
   "source": [
    "sdss = Table.read(sdssCat, format=readFormat, names=colnamesSDSS)\n",
    "np.size(sdss)"
   ]
  },
  {
   "cell_type": "code",
   "execution_count": 12,
   "metadata": {},
   "outputs": [
    {
     "data": {
      "text/html": [
       "<i>Table length=3</i>\n",
       "<table id=\"table26344781584\" class=\"table-striped table-bordered table-condensed\">\n",
       "<thead><tr><th>calib_fla</th><th>ra</th><th>dec</th><th>raRMS</th><th>decRMS</th><th>nEpochs</th><th>AR_val</th><th>u_Nobs</th><th>u_mMed</th><th>u_mMean</th><th>u_mErr</th><th>u_rms_scatt</th><th>u_chi2</th><th>g_Nobs</th><th>g_mMed</th><th>g_mMean</th><th>g_mErr</th><th>g_rms_scatt</th><th>g_chi2</th><th>r_Nobs</th><th>r_mMed</th><th>r_mMean</th><th>r_mErr</th><th>r_rms_scatt</th><th>r_chi2</th><th>i_Nobs</th><th>i_mMed</th><th>i_mMean</th><th>i_mErr</th><th>i_rms_scatt</th><th>i_chi2</th><th>z_Nobs</th><th>z_mMed</th><th>z_mMean</th><th>z_mErr</th><th>z_rms_scatt</th><th>z_chi2</th></tr></thead>\n",
       "<thead><tr><th>str18</th><th>float64</th><th>float64</th><th>float64</th><th>float64</th><th>int64</th><th>float64</th><th>int64</th><th>float64</th><th>float64</th><th>float64</th><th>float64</th><th>float64</th><th>int64</th><th>float64</th><th>float64</th><th>float64</th><th>float64</th><th>float64</th><th>int64</th><th>float64</th><th>float64</th><th>float64</th><th>float64</th><th>float64</th><th>int64</th><th>float64</th><th>float64</th><th>float64</th><th>float64</th><th>float64</th><th>int64</th><th>float64</th><th>float64</th><th>float64</th><th>float64</th><th>float64</th></tr></thead>\n",
       "<tr><td>CALIBSTARS_0624394</td><td>352.422198</td><td>0.185501</td><td>0.0268</td><td>0.0268</td><td>16</td><td>0.127</td><td>16</td><td>18.193</td><td>18.197</td><td>0.006</td><td>0.035</td><td>1.166</td><td>16</td><td>18.134</td><td>18.139</td><td>0.005</td><td>0.019</td><td>1.006</td><td>16</td><td>18.458</td><td>18.461</td><td>0.004</td><td>0.014</td><td>0.971</td><td>15</td><td>18.732</td><td>18.734</td><td>0.005</td><td>0.009</td><td>0.528</td><td>14</td><td>18.987</td><td>18.989</td><td>0.014</td><td>0.037</td><td>0.7</td></tr>\n",
       "<tr><td>CALIBSTARS_0746375</td><td>15.84247</td><td>-0.346593</td><td>0.0401</td><td>0.0401</td><td>16</td><td>0.106</td><td>16</td><td>18.648</td><td>18.648</td><td>0.006</td><td>0.021</td><td>0.813</td><td>16</td><td>19.035</td><td>19.04</td><td>0.005</td><td>0.019</td><td>0.99</td><td>14</td><td>19.536</td><td>19.539</td><td>0.006</td><td>0.013</td><td>0.509</td><td>16</td><td>19.904</td><td>19.903</td><td>0.008</td><td>0.018</td><td>0.528</td><td>15</td><td>20.244</td><td>20.201</td><td>0.033</td><td>0.14</td><td>1.04</td></tr>\n",
       "<tr><td>CALIBSTARS_0978943</td><td>57.209176</td><td>-0.975754</td><td>0.2007</td><td>0.2007</td><td>31</td><td>0.513</td><td>31</td><td>13.376</td><td>13.374</td><td>0.003</td><td>0.019</td><td>1.079</td><td>25</td><td>13.816</td><td>13.818</td><td>0.001</td><td>0.008</td><td>0.43</td><td>29</td><td>14.279</td><td>14.272</td><td>0.002</td><td>0.013</td><td>1.003</td><td>30</td><td>14.649</td><td>14.648</td><td>0.003</td><td>0.007</td><td>0.483</td><td>30</td><td>15.002</td><td>15.003</td><td>0.003</td><td>0.013</td><td>0.734</td></tr>\n",
       "</table>"
      ],
      "text/plain": [
       "<Table length=3>\n",
       "    calib_fla          ra        dec     raRMS  ...  z_mErr z_rms_scatt  z_chi2\n",
       "      str18         float64    float64  float64 ... float64   float64   float64\n",
       "------------------ ---------- --------- ------- ... ------- ----------- -------\n",
       "CALIBSTARS_0624394 352.422198  0.185501  0.0268 ...   0.014       0.037     0.7\n",
       "CALIBSTARS_0746375   15.84247 -0.346593  0.0401 ...   0.033        0.14    1.04\n",
       "CALIBSTARS_0978943  57.209176 -0.975754  0.2007 ...   0.003       0.013   0.734"
      ]
     },
     "execution_count": 12,
     "metadata": {},
     "output_type": "execute_result"
    }
   ],
   "source": [
    "sdss"
   ]
  },
  {
   "cell_type": "markdown",
   "metadata": {
    "collapsed": true
   },
   "source": [
    "#### Simple positional match using ra/dec"
   ]
  },
  {
   "cell_type": "code",
   "execution_count": 13,
   "metadata": {},
   "outputs": [],
   "source": [
    "hst_coords = SkyCoord(ra = hst['ra']*u.degree, dec= hst['dec']*u.degree) \n",
    "sdss_coords = SkyCoord(ra = sdss['ra']*u.degree, dec= sdss['dec']*u.degree) \n",
    "idx, d2d, d3d = sdss_coords.match_to_catalog_sky(hst_coords)  "
   ]
  },
  {
   "cell_type": "code",
   "execution_count": 14,
   "metadata": {
    "scrolled": false
   },
   "outputs": [],
   "source": [
    "# object separation is an object with units, \n",
    "# I add that as a column so that one can \n",
    "# select based on separation to the nearest matching object\n",
    "matches = hstack([sdss, hst[idx]], table_names = ['sdss', 'hst'])\n",
    "matches['sep_2d_arcsec'] = d2d.arcsec"
   ]
  },
  {
   "cell_type": "code",
   "execution_count": 15,
   "metadata": {},
   "outputs": [
    {
     "data": {
      "text/html": [
       "<i>Table length=3</i>\n",
       "<table id=\"table26344783184\" class=\"table-striped table-bordered table-condensed\">\n",
       "<thead><tr><th>calib_fla_sdss</th><th>ra_sdss</th><th>dec_sdss</th><th>raRMS</th><th>decRMS</th><th>nEpochs</th><th>AR_val</th><th>u_Nobs</th><th>u_mMed</th><th>u_mMean</th><th>u_mErr</th><th>u_rms_scatt</th><th>u_chi2</th><th>g_Nobs</th><th>g_mMed</th><th>g_mMean</th><th>g_mErr</th><th>g_rms_scatt</th><th>g_chi2</th><th>r_Nobs</th><th>r_mMed</th><th>r_mMean</th><th>r_mErr</th><th>r_rms_scatt</th><th>r_chi2</th><th>i_Nobs</th><th>i_mMed</th><th>i_mMean</th><th>i_mErr</th><th>i_rms_scatt</th><th>i_chi2</th><th>z_Nobs</th><th>z_mMed</th><th>z_mMean</th><th>z_mErr</th><th>z_rms_scatt</th><th>z_chi2</th><th>ra_hst</th><th>dec_hst</th><th>u_synth</th><th>g_synth</th><th>r_synth</th><th>i_synth</th><th>z_synth</th><th>calib_fla_hst</th><th>sep_2d_arcsec</th></tr></thead>\n",
       "<thead><tr><th>str18</th><th>float64</th><th>float64</th><th>float64</th><th>float64</th><th>int64</th><th>float64</th><th>int64</th><th>float64</th><th>float64</th><th>float64</th><th>float64</th><th>float64</th><th>int64</th><th>float64</th><th>float64</th><th>float64</th><th>float64</th><th>float64</th><th>int64</th><th>float64</th><th>float64</th><th>float64</th><th>float64</th><th>float64</th><th>int64</th><th>float64</th><th>float64</th><th>float64</th><th>float64</th><th>float64</th><th>int64</th><th>float64</th><th>float64</th><th>float64</th><th>float64</th><th>float64</th><th>float64</th><th>float64</th><th>float64</th><th>float64</th><th>float64</th><th>float64</th><th>float64</th><th>int64</th><th>float64</th></tr></thead>\n",
       "<tr><td>CALIBSTARS_0624394</td><td>352.422198</td><td>0.185501</td><td>0.0268</td><td>0.0268</td><td>16</td><td>0.127</td><td>16</td><td>18.193</td><td>18.197</td><td>0.006</td><td>0.035</td><td>1.166</td><td>16</td><td>18.134</td><td>18.139</td><td>0.005</td><td>0.019</td><td>1.006</td><td>16</td><td>18.458</td><td>18.461</td><td>0.004</td><td>0.014</td><td>0.971</td><td>15</td><td>18.732</td><td>18.734</td><td>0.005</td><td>0.009</td><td>0.528</td><td>14</td><td>18.987</td><td>18.989</td><td>0.014</td><td>0.037</td><td>0.7</td><td>352.4221875</td><td>0.1855</td><td>18.154</td><td>18.145</td><td>18.466</td><td>18.754</td><td>19.042</td><td>624394</td><td>0.03797084428493264</td></tr>\n",
       "<tr><td>CALIBSTARS_0746375</td><td>15.84247</td><td>-0.346593</td><td>0.0401</td><td>0.0401</td><td>16</td><td>0.106</td><td>16</td><td>18.648</td><td>18.648</td><td>0.006</td><td>0.021</td><td>0.813</td><td>16</td><td>19.035</td><td>19.04</td><td>0.005</td><td>0.019</td><td>0.99</td><td>14</td><td>19.536</td><td>19.539</td><td>0.006</td><td>0.013</td><td>0.509</td><td>16</td><td>19.904</td><td>19.903</td><td>0.008</td><td>0.018</td><td>0.528</td><td>15</td><td>20.244</td><td>20.201</td><td>0.033</td><td>0.14</td><td>1.04</td><td>15.8424625</td><td>-0.346592</td><td>18.627</td><td>19.057</td><td>19.558</td><td>19.923</td><td>20.258</td><td>746375</td><td>0.027238453048062394</td></tr>\n",
       "<tr><td>CALIBSTARS_0978943</td><td>57.209176</td><td>-0.975754</td><td>0.2007</td><td>0.2007</td><td>31</td><td>0.513</td><td>31</td><td>13.376</td><td>13.374</td><td>0.003</td><td>0.019</td><td>1.079</td><td>25</td><td>13.816</td><td>13.818</td><td>0.001</td><td>0.008</td><td>0.43</td><td>29</td><td>14.279</td><td>14.272</td><td>0.002</td><td>0.013</td><td>1.003</td><td>30</td><td>14.649</td><td>14.648</td><td>0.003</td><td>0.007</td><td>0.483</td><td>30</td><td>15.002</td><td>15.003</td><td>0.003</td><td>0.013</td><td>0.734</td><td>57.2091083</td><td>-0.975636</td><td>13.409</td><td>13.784</td><td>14.295</td><td>14.655</td><td>-99.999</td><td>978943</td><td>0.4897318192962536</td></tr>\n",
       "</table>"
      ],
      "text/plain": [
       "<Table length=3>\n",
       "  calib_fla_sdss    ra_sdss    dec_sdss ... calib_fla_hst    sep_2d_arcsec    \n",
       "      str18         float64    float64  ...     int64           float64       \n",
       "------------------ ---------- --------- ... ------------- --------------------\n",
       "CALIBSTARS_0624394 352.422198  0.185501 ...        624394  0.03797084428493264\n",
       "CALIBSTARS_0746375   15.84247 -0.346593 ...        746375 0.027238453048062394\n",
       "CALIBSTARS_0978943  57.209176 -0.975754 ...        978943   0.4897318192962536"
      ]
     },
     "execution_count": 15,
     "metadata": {},
     "output_type": "execute_result"
    }
   ],
   "source": [
    "matches"
   ]
  },
  {
   "cell_type": "markdown",
   "metadata": {},
   "source": [
    "### now analyze and make plots"
   ]
  },
  {
   "cell_type": "code",
   "execution_count": 16,
   "metadata": {},
   "outputs": [],
   "source": [
    "### code for generating new quantities, such as dra, ddec, colors, differences in mags, etc\n",
    "def derivedColumns(matches):    \n",
    "    matches['du'] = matches['u_mMed'] - matches['u_synth']\n",
    "    matches['dg'] = matches['g_mMed'] - matches['g_synth']\n",
    "    matches['dr'] = matches['r_mMed'] - matches['r_synth']\n",
    "    matches['di'] = matches['i_mMed'] - matches['i_synth']\n",
    "    matches['dz'] = matches['z_mMed'] - matches['z_synth']    \n",
    "    return\n",
    "\n",
    "def printStats(matches, column, Amax = 1.0):\n",
    "    Ndata = 3\n",
    "    arrRaw = matches[column]\n",
    "    arr = arrRaw[(arrRaw>-Amax)&(arrRaw<Amax)]\n",
    "    #print('arr=', column, ' min=', np.min(arr), ' max=', np.max(arr))\n",
    "    #print(column, '    median=', np.median(arr), ' sigG:', zit.sigG(arr))\n",
    "    #print(column, ' &', np.median(arr), ' &', zit.sigG(arr))\n",
    "    print(column, '    mean=', np.mean(arr), ' err:', zit.sigG(arr)/np.sqrt(Ndata-1))"
   ]
  },
  {
   "cell_type": "code",
   "execution_count": 17,
   "metadata": {},
   "outputs": [],
   "source": [
    "derivedColumns(matches)  "
   ]
  },
  {
   "cell_type": "code",
   "execution_count": 18,
   "metadata": {},
   "outputs": [
    {
     "data": {
      "text/html": [
       "<i>Table length=3</i>\n",
       "<table id=\"table26344783184\" class=\"table-striped table-bordered table-condensed\">\n",
       "<thead><tr><th>calib_fla_sdss</th><th>ra_sdss</th><th>dec_sdss</th><th>raRMS</th><th>decRMS</th><th>nEpochs</th><th>AR_val</th><th>u_Nobs</th><th>u_mMed</th><th>u_mMean</th><th>u_mErr</th><th>u_rms_scatt</th><th>u_chi2</th><th>g_Nobs</th><th>g_mMed</th><th>g_mMean</th><th>g_mErr</th><th>g_rms_scatt</th><th>g_chi2</th><th>r_Nobs</th><th>r_mMed</th><th>r_mMean</th><th>r_mErr</th><th>r_rms_scatt</th><th>r_chi2</th><th>i_Nobs</th><th>i_mMed</th><th>i_mMean</th><th>i_mErr</th><th>i_rms_scatt</th><th>i_chi2</th><th>z_Nobs</th><th>z_mMed</th><th>z_mMean</th><th>z_mErr</th><th>z_rms_scatt</th><th>z_chi2</th><th>ra_hst</th><th>dec_hst</th><th>u_synth</th><th>g_synth</th><th>r_synth</th><th>i_synth</th><th>z_synth</th><th>calib_fla_hst</th><th>sep_2d_arcsec</th><th>du</th><th>dg</th><th>dr</th><th>di</th><th>dz</th></tr></thead>\n",
       "<thead><tr><th>str18</th><th>float64</th><th>float64</th><th>float64</th><th>float64</th><th>int64</th><th>float64</th><th>int64</th><th>float64</th><th>float64</th><th>float64</th><th>float64</th><th>float64</th><th>int64</th><th>float64</th><th>float64</th><th>float64</th><th>float64</th><th>float64</th><th>int64</th><th>float64</th><th>float64</th><th>float64</th><th>float64</th><th>float64</th><th>int64</th><th>float64</th><th>float64</th><th>float64</th><th>float64</th><th>float64</th><th>int64</th><th>float64</th><th>float64</th><th>float64</th><th>float64</th><th>float64</th><th>float64</th><th>float64</th><th>float64</th><th>float64</th><th>float64</th><th>float64</th><th>float64</th><th>int64</th><th>float64</th><th>float64</th><th>float64</th><th>float64</th><th>float64</th><th>float64</th></tr></thead>\n",
       "<tr><td>CALIBSTARS_0624394</td><td>352.422198</td><td>0.185501</td><td>0.0268</td><td>0.0268</td><td>16</td><td>0.127</td><td>16</td><td>18.193</td><td>18.197</td><td>0.006</td><td>0.035</td><td>1.166</td><td>16</td><td>18.134</td><td>18.139</td><td>0.005</td><td>0.019</td><td>1.006</td><td>16</td><td>18.458</td><td>18.461</td><td>0.004</td><td>0.014</td><td>0.971</td><td>15</td><td>18.732</td><td>18.734</td><td>0.005</td><td>0.009</td><td>0.528</td><td>14</td><td>18.987</td><td>18.989</td><td>0.014</td><td>0.037</td><td>0.7</td><td>352.4221875</td><td>0.1855</td><td>18.154</td><td>18.145</td><td>18.466</td><td>18.754</td><td>19.042</td><td>624394</td><td>0.03797084428493264</td><td>0.03900000000000148</td><td>-0.010999999999999233</td><td>-0.008000000000002672</td><td>-0.022000000000002018</td><td>-0.05500000000000327</td></tr>\n",
       "<tr><td>CALIBSTARS_0746375</td><td>15.84247</td><td>-0.346593</td><td>0.0401</td><td>0.0401</td><td>16</td><td>0.106</td><td>16</td><td>18.648</td><td>18.648</td><td>0.006</td><td>0.021</td><td>0.813</td><td>16</td><td>19.035</td><td>19.04</td><td>0.005</td><td>0.019</td><td>0.99</td><td>14</td><td>19.536</td><td>19.539</td><td>0.006</td><td>0.013</td><td>0.509</td><td>16</td><td>19.904</td><td>19.903</td><td>0.008</td><td>0.018</td><td>0.528</td><td>15</td><td>20.244</td><td>20.201</td><td>0.033</td><td>0.14</td><td>1.04</td><td>15.8424625</td><td>-0.346592</td><td>18.627</td><td>19.057</td><td>19.558</td><td>19.923</td><td>20.258</td><td>746375</td><td>0.027238453048062394</td><td>0.021000000000000796</td><td>-0.021999999999998465</td><td>-0.021999999999998465</td><td>-0.01899999999999835</td><td>-0.013999999999999346</td></tr>\n",
       "<tr><td>CALIBSTARS_0978943</td><td>57.209176</td><td>-0.975754</td><td>0.2007</td><td>0.2007</td><td>31</td><td>0.513</td><td>31</td><td>13.376</td><td>13.374</td><td>0.003</td><td>0.019</td><td>1.079</td><td>25</td><td>13.816</td><td>13.818</td><td>0.001</td><td>0.008</td><td>0.43</td><td>29</td><td>14.279</td><td>14.272</td><td>0.002</td><td>0.013</td><td>1.003</td><td>30</td><td>14.649</td><td>14.648</td><td>0.003</td><td>0.007</td><td>0.483</td><td>30</td><td>15.002</td><td>15.003</td><td>0.003</td><td>0.013</td><td>0.734</td><td>57.2091083</td><td>-0.975636</td><td>13.409</td><td>13.784</td><td>14.295</td><td>14.655</td><td>-99.999</td><td>978943</td><td>0.4897318192962536</td><td>-0.03300000000000125</td><td>0.03200000000000003</td><td>-0.016000000000000014</td><td>-0.006000000000000227</td><td>115.00099999999999</td></tr>\n",
       "</table>"
      ],
      "text/plain": [
       "<Table length=3>\n",
       "  calib_fla_sdss    ra_sdss   ...           di                    dz         \n",
       "      str18         float64   ...        float64               float64       \n",
       "------------------ ---------- ... --------------------- ---------------------\n",
       "CALIBSTARS_0624394 352.422198 ... -0.022000000000002018  -0.05500000000000327\n",
       "CALIBSTARS_0746375   15.84247 ...  -0.01899999999999835 -0.013999999999999346\n",
       "CALIBSTARS_0978943  57.209176 ... -0.006000000000000227    115.00099999999999"
      ]
     },
     "execution_count": 18,
     "metadata": {},
     "output_type": "execute_result"
    }
   ],
   "source": [
    "matches"
   ]
  },
  {
   "cell_type": "code",
   "execution_count": 19,
   "metadata": {},
   "outputs": [
    {
     "name": "stdout",
     "output_type": "stream",
     "text": [
      "du     mean= 0.009000000000000341  err: 0.018862780494933055\n",
      "dg     mean= -0.0003333333333325565  err: 0.01414708537119886\n",
      "dr     mean= -0.015333333333333718  err: 0.0036677628740135193\n",
      "di     mean= -0.015666666666666867  err: 0.004191728998874323\n",
      "dz     mean= -0.03450000000000131  err: 0.010741305559615277\n"
     ]
    }
   ],
   "source": [
    "for q in ('du', 'dg', 'dr', 'di', 'dz'):\n",
    "    printStats(matches, q)"
   ]
  },
  {
   "cell_type": "code",
   "execution_count": 12,
   "metadata": {},
   "outputs": [
    {
     "data": {
      "text/plain": [
       "991472"
      ]
     },
     "execution_count": 12,
     "metadata": {},
     "output_type": "execute_result"
    }
   ],
   "source": [
    "## for Marta's star\n",
    "mRA = 39.596242 \n",
    "mDec = -1.041237\n",
    "ZIdataDir = \"/Users/ivezic/Work/Science/CalibrationV2/DataAll\"\n",
    "sdssCat = ZIdataDir + \"/\" + \"stripe82calibStars_v3.4.dat\"\n",
    "sdss = Table.read(sdssCat, format=readFormat, names=colnamesSDSS)\n",
    "np.size(sdss)"
   ]
  },
  {
   "cell_type": "code",
   "execution_count": 18,
   "metadata": {},
   "outputs": [],
   "source": [
    "### code for generating new quantities, such as dra, ddec, colors, differences in mags, etc\n",
    "def delCoord(catalog, mRA = 39.596242, mDec = -1.041237):    \n",
    "    catalog['dRA'] = catalog['ra'] - mRA\n",
    "    catalog['dDec'] = catalog['dec'] - mDec\n",
    "    return"
   ]
  },
  {
   "cell_type": "code",
   "execution_count": 26,
   "metadata": {},
   "outputs": [],
   "source": [
    "delCoord(sdss)\n",
    "dmax = 0.1/6.0  # 1 arc min\n",
    "nn = sdss[(np.abs(sdss['dRA'])<dmax)&(np.abs(sdss['dDec'])<dmax)]"
   ]
  },
  {
   "cell_type": "code",
   "execution_count": 27,
   "metadata": {},
   "outputs": [
    {
     "data": {
      "image/png": "[encoded data removed]",
      "text/plain": [
       "<Figure size 432x288 with 1 Axes>"
      ]
     },
     "metadata": {
      "needs_background": "light"
     },
     "output_type": "display_data"
    }
   ],
   "source": [
    "ax = plt.axes()\n",
    "ax.scatter(nn['dRA'], nn['dDec'], s=3.0, c='black', alpha=0.8)\n",
    "plt.show()"
   ]
  },
  {
   "cell_type": "code",
   "execution_count": 28,
   "metadata": {},
   "outputs": [
    {
     "data": {
      "image/png": "[encoded data removed]",
      "text/plain": [
       "<Figure size 432x288 with 1 Axes>"
      ]
     },
     "metadata": {
      "needs_background": "light"
     },
     "output_type": "display_data"
    }
   ],
   "source": [
    "ax = plt.axes()\n",
    "ax.scatter(nn['dRA'], nn['r_mMean'], s=3.0, c='black', alpha=0.8)\n",
    "plt.show()"
   ]
  },
  {
   "cell_type": "code",
   "execution_count": 36,
   "metadata": {},
   "outputs": [
    {
     "data": {
      "image/png": "[encoded data removed]",
      "text/plain": [
       "<Figure size 432x288 with 1 Axes>"
      ]
     },
     "metadata": {
      "needs_background": "light"
     },
     "output_type": "display_data"
    }
   ],
   "source": [
    "ax = plt.axes()\n",
    "ax.scatter(nn['dDec'], nn['r_mMean'], s=3.0, c='black', alpha=0.8)\n",
    "plt.show()"
   ]
  },
  {
   "cell_type": "code",
   "execution_count": 31,
   "metadata": {},
   "outputs": [],
   "source": [
    "nn2 = nn[(np.abs(nn['dRA'])>0.007)&(np.abs(nn['dRA'])<0.01)]"
   ]
  },
  {
   "cell_type": "code",
   "execution_count": 32,
   "metadata": {},
   "outputs": [
    {
     "data": {
      "text/html": [
       "<i>Table length=1</i>\n",
       "<table id=\"table27509137232\" class=\"table-striped table-bordered table-condensed\">\n",
       "<thead><tr><th>calib_fla</th><th>ra</th><th>dec</th><th>raRMS</th><th>decRMS</th><th>nEpochs</th><th>AR_val</th><th>u_Nobs</th><th>u_mMed</th><th>u_mMean</th><th>u_mErr</th><th>u_rms_scatt</th><th>u_chi2</th><th>g_Nobs</th><th>g_mMed</th><th>g_mMean</th><th>g_mErr</th><th>g_rms_scatt</th><th>g_chi2</th><th>r_Nobs</th><th>r_mMed</th><th>r_mMean</th><th>r_mErr</th><th>r_rms_scatt</th><th>r_chi2</th><th>i_Nobs</th><th>i_mMed</th><th>i_mMean</th><th>i_mErr</th><th>i_rms_scatt</th><th>i_chi2</th><th>z_Nobs</th><th>z_mMed</th><th>z_mMean</th><th>z_mErr</th><th>z_rms_scatt</th><th>z_chi2</th><th>dRA</th><th>dDec</th></tr></thead>\n",
       "<thead><tr><th>str18</th><th>float64</th><th>float64</th><th>float64</th><th>float64</th><th>int64</th><th>float64</th><th>int64</th><th>float64</th><th>float64</th><th>float64</th><th>float64</th><th>float64</th><th>int64</th><th>float64</th><th>float64</th><th>float64</th><th>float64</th><th>float64</th><th>int64</th><th>float64</th><th>float64</th><th>float64</th><th>float64</th><th>float64</th><th>int64</th><th>float64</th><th>float64</th><th>float64</th><th>float64</th><th>float64</th><th>int64</th><th>float64</th><th>float64</th><th>float64</th><th>float64</th><th>float64</th><th>float64</th><th>float64</th></tr></thead>\n",
       "<tr><td>CALIBSTARS_0870834</td><td>39.605244</td><td>-1.036742</td><td>0.0533</td><td>0.0533</td><td>34</td><td>0.078</td><td>32</td><td>20.022</td><td>20.03</td><td>0.007</td><td>0.041</td><td>0.917</td><td>32</td><td>17.458</td><td>17.466</td><td>0.004</td><td>0.017</td><td>1.02</td><td>31</td><td>16.165</td><td>16.167</td><td>0.003</td><td>0.014</td><td>0.972</td><td>32</td><td>15.54</td><td>15.539</td><td>0.003</td><td>0.019</td><td>1.226</td><td>32</td><td>15.203</td><td>15.205</td><td>0.003</td><td>0.013</td><td>0.708</td><td>0.009002000000002397</td><td>0.004494999999999916</td></tr>\n",
       "</table>"
      ],
      "text/plain": [
       "<Table length=1>\n",
       "    calib_fla          ra    ...         dRA                  dDec        \n",
       "      str18         float64  ...       float64              float64       \n",
       "------------------ --------- ... -------------------- --------------------\n",
       "CALIBSTARS_0870834 39.605244 ... 0.009002000000002397 0.004494999999999916"
      ]
     },
     "execution_count": 32,
     "metadata": {},
     "output_type": "execute_result"
    }
   ],
   "source": [
    "nn2"
   ]
  },
  {
   "cell_type": "code",
   "execution_count": 33,
   "metadata": {},
   "outputs": [
    {
     "data": {
      "text/plain": [
       "0.0001012410289101"
      ]
     },
     "execution_count": 33,
     "metadata": {},
     "output_type": "execute_result"
    }
   ],
   "source": [
    "0.00900200000**2 + 0.00449499999**2"
   ]
  },
  {
   "cell_type": "code",
   "execution_count": 35,
   "metadata": {},
   "outputs": [
    {
     "data": {
      "text/plain": [
       "36.17955223603521"
      ]
     },
     "execution_count": 35,
     "metadata": {},
     "output_type": "execute_result"
    }
   ],
   "source": [
    "3600*np.sqrt(0.000101)"
   ]
  },
  {
   "cell_type": "code",
   "execution_count": 37,
   "metadata": {},
   "outputs": [],
   "source": [
    "nn2b = nn[(np.abs(nn['r_mMean'])<15.8)]"
   ]
  },
  {
   "cell_type": "code",
   "execution_count": 38,
   "metadata": {},
   "outputs": [
    {
     "data": {
      "text/html": [
       "<i>Table length=1</i>\n",
       "<table id=\"table27509271312\" class=\"table-striped table-bordered table-condensed\">\n",
       "<thead><tr><th>calib_fla</th><th>ra</th><th>dec</th><th>raRMS</th><th>decRMS</th><th>nEpochs</th><th>AR_val</th><th>u_Nobs</th><th>u_mMed</th><th>u_mMean</th><th>u_mErr</th><th>u_rms_scatt</th><th>u_chi2</th><th>g_Nobs</th><th>g_mMed</th><th>g_mMean</th><th>g_mErr</th><th>g_rms_scatt</th><th>g_chi2</th><th>r_Nobs</th><th>r_mMed</th><th>r_mMean</th><th>r_mErr</th><th>r_rms_scatt</th><th>r_chi2</th><th>i_Nobs</th><th>i_mMed</th><th>i_mMean</th><th>i_mErr</th><th>i_rms_scatt</th><th>i_chi2</th><th>z_Nobs</th><th>z_mMed</th><th>z_mMean</th><th>z_mErr</th><th>z_rms_scatt</th><th>z_chi2</th><th>dRA</th><th>dDec</th></tr></thead>\n",
       "<thead><tr><th>str18</th><th>float64</th><th>float64</th><th>float64</th><th>float64</th><th>int64</th><th>float64</th><th>int64</th><th>float64</th><th>float64</th><th>float64</th><th>float64</th><th>float64</th><th>int64</th><th>float64</th><th>float64</th><th>float64</th><th>float64</th><th>float64</th><th>int64</th><th>float64</th><th>float64</th><th>float64</th><th>float64</th><th>float64</th><th>int64</th><th>float64</th><th>float64</th><th>float64</th><th>float64</th><th>float64</th><th>int64</th><th>float64</th><th>float64</th><th>float64</th><th>float64</th><th>float64</th><th>float64</th><th>float64</th></tr></thead>\n",
       "<tr><td>CALIBSTARS_0868816</td><td>39.591759</td><td>-1.053944</td><td>0.0332</td><td>0.0332</td><td>48</td><td>0.079</td><td>44</td><td>17.355</td><td>17.356</td><td>0.003</td><td>0.026</td><td>1.435</td><td>45</td><td>15.879</td><td>15.888</td><td>0.003</td><td>0.023</td><td>1.257</td><td>44</td><td>15.299</td><td>15.3</td><td>0.002</td><td>0.013</td><td>0.955</td><td>45</td><td>15.058</td><td>15.059</td><td>0.003</td><td>0.018</td><td>0.979</td><td>43</td><td>14.959</td><td>14.959</td><td>0.003</td><td>0.018</td><td>1.019</td><td>-0.004482999999993353</td><td>-0.012707000000000024</td></tr>\n",
       "</table>"
      ],
      "text/plain": [
       "<Table length=1>\n",
       "    calib_fla          ra    ...          dRA                   dDec        \n",
       "      str18         float64  ...        float64               float64       \n",
       "------------------ --------- ... --------------------- ---------------------\n",
       "CALIBSTARS_0868816 39.591759 ... -0.004482999999993353 -0.012707000000000024"
      ]
     },
     "execution_count": 38,
     "metadata": {},
     "output_type": "execute_result"
    }
   ],
   "source": [
    "nn2b"
   ]
  },
  {
   "cell_type": "code",
   "execution_count": 43,
   "metadata": {},
   "outputs": [],
   "source": [
    "nn3 = nn[(np.abs(nn['dRA'])<0.004)&(np.abs(nn['dDec'])<0.004)&(np.abs(nn['dRA'])>0.0001)]"
   ]
  },
  {
   "cell_type": "code",
   "execution_count": 44,
   "metadata": {},
   "outputs": [
    {
     "data": {
      "text/html": [
       "<i>Table length=1</i>\n",
       "<table id=\"table28544165968\" class=\"table-striped table-bordered table-condensed\">\n",
       "<thead><tr><th>calib_fla</th><th>ra</th><th>dec</th><th>raRMS</th><th>decRMS</th><th>nEpochs</th><th>AR_val</th><th>u_Nobs</th><th>u_mMed</th><th>u_mMean</th><th>u_mErr</th><th>u_rms_scatt</th><th>u_chi2</th><th>g_Nobs</th><th>g_mMed</th><th>g_mMean</th><th>g_mErr</th><th>g_rms_scatt</th><th>g_chi2</th><th>r_Nobs</th><th>r_mMed</th><th>r_mMean</th><th>r_mErr</th><th>r_rms_scatt</th><th>r_chi2</th><th>i_Nobs</th><th>i_mMed</th><th>i_mMean</th><th>i_mErr</th><th>i_rms_scatt</th><th>i_chi2</th><th>z_Nobs</th><th>z_mMed</th><th>z_mMean</th><th>z_mErr</th><th>z_rms_scatt</th><th>z_chi2</th><th>dRA</th><th>dDec</th></tr></thead>\n",
       "<thead><tr><th>str18</th><th>float64</th><th>float64</th><th>float64</th><th>float64</th><th>int64</th><th>float64</th><th>int64</th><th>float64</th><th>float64</th><th>float64</th><th>float64</th><th>float64</th><th>int64</th><th>float64</th><th>float64</th><th>float64</th><th>float64</th><th>float64</th><th>int64</th><th>float64</th><th>float64</th><th>float64</th><th>float64</th><th>float64</th><th>int64</th><th>float64</th><th>float64</th><th>float64</th><th>float64</th><th>float64</th><th>int64</th><th>float64</th><th>float64</th><th>float64</th><th>float64</th><th>float64</th><th>float64</th><th>float64</th></tr></thead>\n",
       "<tr><td>CALIBSTARS_0870816</td><td>39.592512</td><td>-1.044101</td><td>0.0561</td><td>0.0561</td><td>48</td><td>0.079</td><td>33</td><td>18.669</td><td>18.674</td><td>0.004</td><td>0.021</td><td>0.889</td><td>36</td><td>17.803</td><td>17.809</td><td>0.003</td><td>0.02</td><td>0.82</td><td>35</td><td>17.494</td><td>17.495</td><td>0.003</td><td>0.012</td><td>0.741</td><td>35</td><td>17.363</td><td>17.362</td><td>0.003</td><td>0.018</td><td>0.969</td><td>33</td><td>17.334</td><td>17.332</td><td>0.004</td><td>0.013</td><td>0.536</td><td>-0.0037299999999973465</td><td>-0.0028639999999999777</td></tr>\n",
       "</table>"
      ],
      "text/plain": [
       "<Table length=1>\n",
       "    calib_fla          ra    ...          dRA                    dDec         \n",
       "      str18         float64  ...        float64                float64        \n",
       "------------------ --------- ... ---------------------- ----------------------\n",
       "CALIBSTARS_0870816 39.592512 ... -0.0037299999999973465 -0.0028639999999999777"
      ]
     },
     "execution_count": 44,
     "metadata": {},
     "output_type": "execute_result"
    }
   ],
   "source": [
    "nn3"
   ]
  },
  {
   "cell_type": "code",
   "execution_count": null,
   "metadata": {},
   "outputs": [],
   "source": [
    "## 3 nearby stars to \"Marta's star\" at RA = 39.596242  Dec = -1.041237\n",
    "#    RA         Dec      rMean    CALIB# \n",
    "  39.605244  -1.036742   16.17   0870834\n",
    "  39.591759  -1.053944   15.30   0868816\n",
    "  39.592512  -1.044101   17.50   0870816"
   ]
  },
  {
   "cell_type": "code",
   "execution_count": 45,
   "metadata": {},
   "outputs": [
    {
     "data": {
      "text/html": [
       "<i>Table length=1</i>\n",
       "<table id=\"table28544167248\" class=\"table-striped table-bordered table-condensed\">\n",
       "<thead><tr><th>calib_fla</th><th>ra</th><th>dec</th><th>raRMS</th><th>decRMS</th><th>nEpochs</th><th>AR_val</th><th>u_Nobs</th><th>u_mMed</th><th>u_mMean</th><th>u_mErr</th><th>u_rms_scatt</th><th>u_chi2</th><th>g_Nobs</th><th>g_mMed</th><th>g_mMean</th><th>g_mErr</th><th>g_rms_scatt</th><th>g_chi2</th><th>r_Nobs</th><th>r_mMed</th><th>r_mMean</th><th>r_mErr</th><th>r_rms_scatt</th><th>r_chi2</th><th>i_Nobs</th><th>i_mMed</th><th>i_mMean</th><th>i_mErr</th><th>i_rms_scatt</th><th>i_chi2</th><th>z_Nobs</th><th>z_mMed</th><th>z_mMean</th><th>z_mErr</th><th>z_rms_scatt</th><th>z_chi2</th><th>dRA</th><th>dDec</th></tr></thead>\n",
       "<thead><tr><th>str18</th><th>float64</th><th>float64</th><th>float64</th><th>float64</th><th>int64</th><th>float64</th><th>int64</th><th>float64</th><th>float64</th><th>float64</th><th>float64</th><th>float64</th><th>int64</th><th>float64</th><th>float64</th><th>float64</th><th>float64</th><th>float64</th><th>int64</th><th>float64</th><th>float64</th><th>float64</th><th>float64</th><th>float64</th><th>int64</th><th>float64</th><th>float64</th><th>float64</th><th>float64</th><th>float64</th><th>int64</th><th>float64</th><th>float64</th><th>float64</th><th>float64</th><th>float64</th><th>float64</th><th>float64</th></tr></thead>\n",
       "<tr><td>CALIBSTARS_0870831</td><td>39.596242</td><td>-1.041237</td><td>0.0384</td><td>0.0384</td><td>38</td><td>0.079</td><td>32</td><td>20.935</td><td>20.931</td><td>0.014</td><td>0.092</td><td>1.107</td><td>33</td><td>18.227</td><td>18.229</td><td>0.004</td><td>0.045</td><td>1.985</td><td>32</td><td>16.812</td><td>16.815</td><td>0.003</td><td>0.032</td><td>2.036</td><td>31</td><td>15.367</td><td>15.362</td><td>0.003</td><td>0.023</td><td>1.227</td><td>30</td><td>14.593</td><td>14.598</td><td>0.003</td><td>0.013</td><td>0.658</td><td>0.0</td><td>0.0</td></tr>\n",
       "</table>"
      ],
      "text/plain": [
       "<Table length=1>\n",
       "    calib_fla          ra       dec     raRMS  ...  z_chi2   dRA     dDec \n",
       "      str18         float64   float64  float64 ... float64 float64 float64\n",
       "------------------ --------- --------- ------- ... ------- ------- -------\n",
       "CALIBSTARS_0870831 39.596242 -1.041237  0.0384 ...   0.658     0.0     0.0"
      ]
     },
     "execution_count": 45,
     "metadata": {},
     "output_type": "execute_result"
    }
   ],
   "source": [
    "nnM = nn[(np.abs(nn['dRA'])<0.001)&(np.abs(nn['dDec'])<0.001)]\n",
    "nnM"
   ]
  },
  {
   "cell_type": "code",
   "execution_count": null,
   "metadata": {},
   "outputs": [],
   "source": []
  }
 ],
 "metadata": {
  "kernelspec": {
   "display_name": "Python 3",
   "language": "python",
   "name": "python3"
  },
  "language_info": {
   "codemirror_mode": {
    "name": "ipython",
    "version": 3
   },
   "file_extension": ".py",
   "mimetype": "text/x-python",
   "name": "python",
   "nbconvert_exporter": "python",
   "pygments_lexer": "ipython3",
   "version": "3.7.4"
  }
 },
 "nbformat": 4,
 "nbformat_minor": 2
}
