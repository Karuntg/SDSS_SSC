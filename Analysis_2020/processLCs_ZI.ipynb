{
 "cells": [
  {
   "cell_type": "markdown",
   "metadata": {},
   "source": [
    "## **Process LC files in RA, Dec dirs**"
   ]
  },
  {
   "cell_type": "code",
   "execution_count": 22,
   "metadata": {},
   "outputs": [],
   "source": [
    "import os\n",
    "import glob\n",
    "import tarfile\n",
    "from urllib.request import urlretrieve\n",
    "from datetime import date\n",
    "\n",
    "import numpy as np\n",
    "import pandas as pd\n",
    "import matplotlib.pyplot as plt\n",
    "\n",
    "from astropy.table import Table\n",
    "from astropy.coordinates import SkyCoord\n",
    "from astropy import units as u\n",
    "from astropy.table import hstack\n",
    "\n"
   ]
  },
  {
   "cell_type": "code",
   "execution_count": 8,
   "metadata": {},
   "outputs": [],
   "source": [
    "# Scipy\n",
    "import scipy.stats as stats\n",
    "from scipy.spatial import cKDTree as KDT\n",
    "\n",
    "# Astropy\n",
    "from astropy.stats import SigmaClip\n",
    "from astropy.stats import sigma_clip, mad_std\n",
    "from astropy.stats import sigma_clipped_stats\n",
    "\n",
    "# astroML\n",
    "from astroML.plotting import hist"
   ]
  },
  {
   "cell_type": "code",
   "execution_count": 225,
   "metadata": {},
   "outputs": [],
   "source": [
    "def LCfilename(RA, Dec): \n",
    "        # given (RA, Dec), return RA/Dec directory names and LC file name \n",
    "        RAdir = getRAname(RA)\n",
    "        DecDir = getDname(Dec)\n",
    "\n",
    "        # for filename itself, use 6 decimal places for RA and Dec\n",
    "        sRA = '%0.6f'%(RA)        \n",
    "        sDec = '%0.6f'%(abs(Dec))\n",
    "        sgnString = \"p\" \n",
    "        if Dec < 0:\n",
    "           sgnString = \"m\"\n",
    "        LCfilename = \"LC_RA\"+sRA+\"_D\"+sgnString+sDec+\".dat\"\n",
    "\n",
    "        return RAdir, DecDir, LCfilename \n",
    "\n",
    "def getRAname(RA):         \n",
    "        if RA > 180:\n",
    "           RAname = \"RAm\" + str(int(abs(RA-360)))\n",
    "        else:\n",
    "           RAname = \"RAp\" + str(int(RA))\n",
    "        return RAname\n",
    "\n",
    "def getDname(Dec): \n",
    "        if Dec < 0:\n",
    "           Dname = \"Dm\" + str(int(abs(10*Dec)))\n",
    "        else:\n",
    "           Dname = \"Dp\" + str(int(10*Dec))\n",
    "        return Dname"
   ]
  },
  {
   "cell_type": "code",
   "execution_count": 17,
   "metadata": {},
   "outputs": [
    {
     "name": "stdout",
     "output_type": "stream",
     "text": [
      "SSCindx,Nra,Ndec,NraRMS,NdecRMS,NnEpochs,NAR_val,Nu_Nobs,Nu_mMed,Nu_mMean,Nu_mErr,Nu_rms_scatt,Nu_chi2,Ng_Nobs,Ng_mMed,Ng_mMean,Ng_mErr,Ng_rms_scatt,Ng_chi2,Nr_Nobs,Nr_mMed,Nr_mMean,Nr_mErr,Nr_rms_scatt,Nr_chi2,Ni_Nobs,Ni_mMed,Ni_mMean,Ni_mErr,Ni_rms_scatt,Ni_chi2,Nz_Nobs,Nz_mMed,Nz_mMean,Nz_mErr,Nz_rms_scatt,Nz_chi2\n"
     ]
    }
   ],
   "source": [
    "cat_col_names = ['run1','col1','fld1','nctr','SSCra1','SSCdec1','SSCindx1',\n",
    "      'distSS2WDasec','WDra','WDdec','delu','delg','delr','deli','delz',\n",
    "      'WDMJD','WDobjc_type','WDobjc_rowc','WDobjc_colc','WDnchild',\n",
    "      'WDrowc1','WDrowc2','WDrowc3','WDrowc4','WDrowc5',\n",
    "      'WDrowcerr1','WDrowcerr2','WDrowcerr3','WDrowcerr4','WDrowcerr5',\n",
    "      'WDcolc1','WDcolc2','WDcolc3','WDcolc4','WDcolc5',\n",
    "      'WDcolcerr1','WDcolcerr2','WDcolcerr3','WDcolcerr4','WDcolcerr5',\n",
    "      'WDpsfmag1','WDpsfmag2','WDpsfmag3','WDpsfmag4','WDpsfmag5',\n",
    "      'WDpsfmagerr1','WDpsfmagerr2','WDpsfmagerr3','WDpsfmagerr4','WDpsfmagerr5',\n",
    "      'WDmodelmag1','WDmodelmag2','WDmodelmag3','WDmodelmag4','WDmodelmag5',\n",
    "      'WDmodelmagerr1','WDmodelmagerr2','WDmodelmagerr3','WDmodelmagerr4','WDmodelmagerr5',\n",
    "      'umjd','gmjd','rmjd','imjd','zmjd',\n",
    "      'umjdfrac','gmjdfrac','rmjdfrac','imjdfrac','zmjdfrac',\n",
    "      'WDtai1','WDtai2','WDtai3','WDtai4','WDtai5',\n",
    "      'WDtaifrac1','WDtaifrac2','WDtaifrac3','WDtaifrac4','WDtaifrac5',\n",
    "      'WDairmass1','WDairmass2','WDairmass3','WDairmass4','WDairmass5',\n",
    "      'WDpsf_fwhm1','WDpsf_fwhm2','WDpsf_fwhm3','WDpsf_fwhm4','WDpsf_fwhm5',\n",
    "      'WDskyflux1','WDskyflux2','WDskyflux3','WDskyflux4','WDskyflux5',\n",
    "      'objc_flags','objc_flags2',\n",
    "      'flags_1','flags_2','flags_3','flags_4','flags_5',\n",
    "      'flags2_1','flags2_2','flags2_3','flags2_4','flags2_5']\n",
    "\n",
    "\n",
    "cat_col_dtype = {'run1':'int64','col1':'int64','fld1':'int64','nctr':'int64','SSCindx1':'int64',\n",
    "                 'WDMJD':'int64','WDobjc_type':'int64','WDnchild':'int64',\n",
    "                 'umjd':'int64','gmjd':'int64','rmjd':'int64','imjd':'int64','zmjd':'int64',\n",
    "                'objc_flags':'int64','objc_flags2':'int64',\n",
    "                'flags_1':'int64','flags_2':'int64','flags_3':'int64','flags_4':'int64','flags_5':'int64',\n",
    "                 'flags2_1':'int64','flags2_2':'int64','flags2_3':'int64','flags2_4':'int64','flags2_5':'int64'}\n",
    "\n",
    "# define col names for the SSC\n",
    "Ncolnames = 'SSCindx,Nra,Ndec,NraRMS,NdecRMS,NnEpochs,NAR_val,Nu_Nobs,Nu_mMed,Nu_mMean,Nu_mErr,Nu_rms_scatt,Nu_chi2,Ng_Nobs,Ng_mMed,Ng_mMean,Ng_mErr,Ng_rms_scatt,Ng_chi2,Nr_Nobs,Nr_mMed,Nr_mMean,Nr_mErr,Nr_rms_scatt,Nr_chi2,Ni_Nobs,Ni_mMed,Ni_mMean,Ni_mErr,Ni_rms_scatt,Ni_chi2,Nz_Nobs,Nz_mMed,Nz_mMean,Nz_mErr,Nz_rms_scatt,Nz_chi2'\n",
    "print('%s' % Ncolnames)\n",
    "\n",
    "# Define the format string for the new SSC\n",
    "newSSC_formstr = '%07d,%f,%f,%f,%f,%d,%f,%3d,%.4f,%.4f,%.4f,%.4f,%.4f,%3d,%.4f,%.4f,%.4f,%.4f,%.4f,%3d,%.4f,%.4f,%.4f,%.4f,%.4f,%3d,%.4f,%.4f,%.4f,%.4f,%.4f,%3d,%.4f,%.4f,%.4f,%.4f,%.4f\\n'"
   ]
  },
  {
   "cell_type": "code",
   "execution_count": 218,
   "metadata": {},
   "outputs": [],
   "source": [
    "# robust standard deviation\n",
    "def sigG(arr):\n",
    "    return 0.741*(np.quantile(arr, 0.75)-np.quantile(arr, 0.25))\n",
    "\n",
    "def LCtoMagStats(mag, magErr, NepochMin=2, dmMax=0.3, dsigMax=3.0, sysErr=0.002):\n",
    "    # given an array of magnitudes mag and corresponding uncertainties magErr,\n",
    "    # return quantities required for the standard star catalog: \n",
    "    #   'Nobs', 'mMed', 'mMean', 'mErr', 'rms_scatt', 'chi2'\n",
    "    # where mMed and mMean are median and weighted mean value after the \n",
    "    # rejection of bad data points, Nobs is the number of surviving data points, \n",
    "    # rms_scatt is the robust standard deviation estimated from the \n",
    "    # interquartile range, mErr is the uncertainty of weighted median (for the\n",
    "    # median, uncetainty is 1.25*rms_scatt/sqrt(Nobs)) and chi2 is the chi2\n",
    "    # per degree of freedom: 1/(Nobs-1)*sum[(mag - mMean)^2/magErr^2], summed\n",
    "    # over good points \n",
    "    \n",
    "    # if the number of data points drops below NepochMin, adopt the following\n",
    "    #   default values: Nobs=0, mMed = mMean = -9.99, mErr=rms_scatt=chi2=0  \n",
    "    defaults = 0, -9.99, -9.99, 0, 0, 0 \n",
    "    \n",
    "    # processing steps: \n",
    "    # 0) add systematic photometric error, sysErr, in quadrature\n",
    "    # 1) compute median and reject all points more than dmMax from the median\n",
    "    # 2) recompute median and sigG and reject all points more than dsigMax*sigG\n",
    "    #        from the median\n",
    "    # 3) if at least NepochMin points survived, compute median and weighted mean\n",
    "    # \n",
    "    # 0) and 1) \n",
    "    mag1 = mag[np.abs(mag-np.median(mag)) <= dmMax] \n",
    "    magErr1 = np.sqrt(magErr[np.abs(mag-np.median(mag)) <= dmMax]**2 + sysErr**2)\n",
    "    if (np.size(mag1)<NepochMin):\n",
    "        return defaults\n",
    "    else: \n",
    "        # 2)\n",
    "        sigG2 = sigG(mag1)\n",
    "        mag2 = mag1[np.abs(mag1-np.median(mag1)) <= dsigMax*sigG2] \n",
    "        magErr2 = magErr1[np.abs(mag1-np.median(mag1)) <= dsigMax*sigG2] \n",
    "        if (np.size(mag2)<NepochMin):\n",
    "            return defaults\n",
    "    return magStats(mag2, magErr2)\n",
    " \n",
    "def magStats(m, mErr):\n",
    "    # given an array of magnitudes m and corresponding uncertainties mErr,\n",
    "    # compute quantities required for the standard star catalog \n",
    "    Nobs = np.size(m)\n",
    "    mMed = np.median(m)\n",
    "    rms_scatt = sigG(m)\n",
    "    # weighted quantities\n",
    "    sumW = np.sum(1.0/mErr**2)\n",
    "    mWmean = np.sum(m/mErr**2)/sumW\n",
    "    WmeanErr = 1.0/np.sqrt(sumW)\n",
    "    # robust chi2 per degree of freedom (that is, the width of chi distribution)\n",
    "    chi = (m-mMed)/mErr\n",
    "    chi2 = sigG(chi)\n",
    "    return Nobs, mMed, mWmean, WmeanErr, rms_scatt, chi2"
   ]
  },
  {
   "cell_type": "code",
   "execution_count": 197,
   "metadata": {},
   "outputs": [],
   "source": [
    "def getSSCentry(LC):\n",
    "    entry = {}\n",
    "    ra = np.median(LC['WDra'])\n",
    "    dec = np.median(LC['WDdec'])\n",
    "    raRMS = sigG(LC['WDra']) * 3600\n",
    "    decRMS = sigG(LC['WDdec']) * 3600\n",
    "    nEpochs = np.size(LC)\n",
    "    AR_val = -9.99\n",
    "    entry['coord'] = (ra, dec, raRMS, decRMS, nEpochs, AR_val)\n",
    "    for b in ('1','2','3','4','5'):\n",
    "        psf = LC['WDpsfmag'+b]\n",
    "        psfErr = LC['WDpsfmagerr'+b]\n",
    "        stats = LCtoMagStats(psf, psfErr)\n",
    "        entry[b] = stats\n",
    "        \n",
    "    return entry    "
   ]
  },
  {
   "cell_type": "markdown",
   "metadata": {},
   "source": [
    "### **DEFINE DIRS, CAT NAMES, ETC.**"
   ]
  },
  {
   "cell_type": "code",
   "execution_count": 178,
   "metadata": {},
   "outputs": [],
   "source": [
    "def printStats(arr):\n",
    "    print('           ', np.min(arr), np.mean(arr), np.median(arr), np.max(arr), sigG(arr), np.size(arr)) \n",
    "    return "
   ]
  },
  {
   "cell_type": "code",
   "execution_count": 219,
   "metadata": {},
   "outputs": [
    {
     "data": {
      "text/plain": [
       "'/Users/ivezic/Work/Science/CalibrationV2/LCs/LCdir/RAm007/Dm007/LC_RA352.602112_Dm0.789446.dat'"
      ]
     },
     "execution_count": 219,
     "metadata": {},
     "output_type": "execute_result"
    }
   ],
   "source": [
    "root_dir = '/Users/ivezic/Work/Science/CalibrationV2/LCs/LCdir'\n",
    "LCfile = 'RAm007/Dm007/LC_RA352.602112_Dm0.789446.dat'\n",
    "#LCfile = 'RAm009/Dp003/LC_RA350.914612_Dp0.312862.dat'\n",
    "LCfilepath = root_dir + '/' +  LCfile\n",
    "LCfilepath"
   ]
  },
  {
   "cell_type": "code",
   "execution_count": 220,
   "metadata": {},
   "outputs": [],
   "source": [
    "LC = Table.read(LCfilepath, format='ascii', names=cat_col_names)\n",
    "SSCentry = getSSCentry(LC)"
   ]
  },
  {
   "cell_type": "code",
   "execution_count": 221,
   "metadata": {},
   "outputs": [
    {
     "data": {
      "text/plain": [
       "{'coord': (352.602143276,\n",
       "  -0.7894517515,\n",
       "  0.018521813737470437,\n",
       "  0.02108871180019105,\n",
       "  16,\n",
       "  -9.99),\n",
       " '1': (4,\n",
       "  24.174500000000002,\n",
       "  24.185727638235637,\n",
       "  0.5207801583264462,\n",
       "  0.06287384999999958,\n",
       "  0.05698298332936731),\n",
       " '2': (16,\n",
       "  21.0596,\n",
       "  21.056876737223828,\n",
       "  0.010702508440497357,\n",
       "  0.039606449999998516,\n",
       "  0.9574345363508641),\n",
       " '3': (16,\n",
       "  19.4896,\n",
       "  19.48721289124762,\n",
       "  0.005628106324186816,\n",
       "  0.019228950000001254,\n",
       "  0.8927974623911943),\n",
       " '4': (16,\n",
       "  18.01325,\n",
       "  18.013654699098137,\n",
       "  0.004294083640756496,\n",
       "  0.011633699999999213,\n",
       "  0.7356993129217982),\n",
       " '5': (15,\n",
       "  17.2095,\n",
       "  17.20762566651848,\n",
       "  0.00558005651858595,\n",
       "  0.017487599999998733,\n",
       "  0.7198963700420346)}"
      ]
     },
     "execution_count": 221,
     "metadata": {},
     "output_type": "execute_result"
    }
   ],
   "source": [
    "SSCentry"
   ]
  },
  {
   "cell_type": "markdown",
   "metadata": {},
   "source": [
    "### looping..."
   ]
  },
  {
   "cell_type": "code",
   "execution_count": 295,
   "metadata": {},
   "outputs": [
    {
     "name": "stdout",
     "output_type": "stream",
     "text": [
      "/Users/ivezic/Work/Science/CalibrationV2/LCs/LCdir/RAm000/Dm000\n"
     ]
    },
    {
     "data": {
      "text/plain": [
       "191"
      ]
     },
     "execution_count": 295,
     "metadata": {},
     "output_type": "execute_result"
    }
   ],
   "source": [
    "%cd '/Users/ivezic/Work/Science/CalibrationV2/LCs/LCdir/RAm000/Dm000'\n",
    "LClist = !ls LC*.dat\n",
    "nLC = np.size(LClist)\n",
    "nLC"
   ]
  },
  {
   "cell_type": "code",
   "execution_count": 313,
   "metadata": {},
   "outputs": [],
   "source": [
    "workdir = !pwd \n",
    "SSCrow = ''\n",
    "for i in range(0,nLC):\n",
    "    LCfilepath = workdir[0] + '/' + LClist[i]\n",
    "    LC = Table.read(LCfilepath, format='ascii', names=cat_col_names)\n",
    "    SSCrow = getSSCentry(LC)\n",
    "    ## write here to new SSC file (but note that extinction Ar is missing!)"
   ]
  }
 ],
 "metadata": {
  "kernelspec": {
   "display_name": "Python 3",
   "language": "python",
   "name": "python3"
  },
  "language_info": {
   "codemirror_mode": {
    "name": "ipython",
    "version": 3
   },
   "file_extension": ".py",
   "mimetype": "text/x-python",
   "name": "python",
   "nbconvert_exporter": "python",
   "pygments_lexer": "ipython3",
   "version": "3.7.4"
  }
 },
 "nbformat": 4,
 "nbformat_minor": 2
}
